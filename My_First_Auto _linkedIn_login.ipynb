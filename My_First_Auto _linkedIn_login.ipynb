{
 "cells": [
  {
   "cell_type": "code",
   "execution_count": 10,
   "metadata": {},
   "outputs": [],
   "source": [
    "# import web driver\n",
    "from selenium import webdriver"
   ]
  },
  {
   "cell_type": "code",
   "execution_count": 11,
   "metadata": {},
   "outputs": [],
   "source": [
    "# specifies the path to the chromedriver.exe\n",
    "driver = webdriver.Chrome(\"/webdriver file path\")"
   ]
  },
  {
   "cell_type": "code",
   "execution_count": 12,
   "metadata": {},
   "outputs": [],
   "source": [
    "# driver.get method() will navigate to a page given by the URL address\n",
    "driver.get(\"https://www.linkedin.com/login?\")"
   ]
  },
  {
   "cell_type": "code",
   "execution_count": 13,
   "metadata": {},
   "outputs": [],
   "source": [
    "# locate email form by_name\n",
    "username = driver.find_element_by_name('session_key')\n",
    "\n",
    "# locate email form by_xpath\n",
    "#username = driver.find_element_by_xpath('//*[@id=\"username\"]')\n",
    "\n",
    "# locate email form by_id\n",
    "#username = driver.find_element_by_id(\"username\")\n",
    "\n",
    "#send_keys() to simulate key strokes\n",
    "username.send_keys(\"email_id\")"
   ]
  },
  {
   "cell_type": "code",
   "execution_count": 14,
   "metadata": {},
   "outputs": [],
   "source": [
    "# locate password form by_name\n",
    "password = driver.find_element_by_name('session_password')\n",
    "\n",
    "#locate password form id\n",
    "#password = driver.find_element_by_id(\"password\")\n",
    "\n",
    "#locate password form by_xpath\n",
    "#password = driver.find_element_by_xpath('//*[@id=\"password\"]')\n",
    "\n",
    "\n",
    "# send_keys() to simulate key strokes\n",
    "password.send_keys(\"password\")"
   ]
  },
  {
   "cell_type": "code",
   "execution_count": 15,
   "metadata": {},
   "outputs": [],
   "source": [
    "# locate submit button by_class_name\n",
    "log_in_button = driver.find_element_by_class_name('btn__primary--large')\n",
    "\n",
    "# locate submit button by_xpath\n",
    "#log_in_button = driver.find_element_by_xpath('//*[@type=\"submit\"]')\n"
   ]
  },
  {
   "cell_type": "code",
   "execution_count": 16,
   "metadata": {},
   "outputs": [],
   "source": [
    "# .click() to mimic button click\n",
    "log_in_button.click()"
   ]
  },
  {
   "cell_type": "code",
   "execution_count": null,
   "metadata": {},
   "outputs": [],
   "source": []
  }
 ],
 "metadata": {
  "kernelspec": {
   "display_name": "Python 3",
   "language": "python",
   "name": "python3"
  },
  "language_info": {
   "codemirror_mode": {
    "name": "ipython",
    "version": 3
   },
   "file_extension": ".py",
   "mimetype": "text/x-python",
   "name": "python",
   "nbconvert_exporter": "python",
   "pygments_lexer": "ipython3",
   "version": "3.7.5"
  }
 },
 "nbformat": 4,
 "nbformat_minor": 2
}
